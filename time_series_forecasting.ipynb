{
  "nbformat": 4,
  "nbformat_minor": 0,
  "metadata": {
    "colab": {
      "provenance": [],
      "machine_shape": "hm",
      "runtime_attributes": {
        "runtime_version": "2025.07"
      },
      "authorship_tag": "ABX9TyOEXfxAZwiRmTbmgFKrxkoT",
      "include_colab_link": true
    },
    "kernelspec": {
      "name": "python3",
      "display_name": "Python 3"
    },
    "language_info": {
      "name": "python"
    }
  },
  "cells": [
    {
      "cell_type": "markdown",
      "metadata": {
        "id": "view-in-github",
        "colab_type": "text"
      },
      "source": [
        "<a href=\"https://colab.research.google.com/github/kat-le/cmpe255-pycaret/blob/main/time_series_forecasting.ipynb\" target=\"_parent\"><img src=\"https://colab.research.google.com/assets/colab-badge.svg\" alt=\"Open In Colab\"/></a>"
      ]
    },
    {
      "cell_type": "code",
      "execution_count": null,
      "metadata": {
        "id": "wbAp81xyfdax"
      },
      "outputs": [],
      "source": [
        "!pip install pycaret kaggle\n",
        "!kaggle -v"
      ]
    },
    {
      "cell_type": "code",
      "source": [
        "import pycaret\n",
        "pycaret.__version__"
      ],
      "metadata": {
        "id": "e5Os9VKigV7w"
      },
      "execution_count": null,
      "outputs": []
    },
    {
      "cell_type": "code",
      "source": [
        "from google.colab import files\n",
        "up = files.upload()\n",
        "\n",
        "!mkdir -p ~/.kaggle\n",
        "!cp kaggle.json ~/.kaggle/\n",
        "!chmod 600 ~/.kaggle/kaggle.json\n",
        "!ls -la ~/.kaggle"
      ],
      "metadata": {
        "id": "vve2QhfHgZjB"
      },
      "execution_count": null,
      "outputs": []
    },
    {
      "cell_type": "code",
      "source": [
        "!mkdir -p data\n",
        "!kaggle datasets download -d agajorte/detroit-daily-temperatures-with-artificial-warming -p data --unzip\n",
        "!ls -lah data"
      ],
      "metadata": {
        "id": "vl--0VdBgb1m"
      },
      "execution_count": null,
      "outputs": []
    },
    {
      "cell_type": "code",
      "source": [
        "import pandas as pd\n",
        "import glob, os\n",
        "\n",
        "csvs = sorted(glob.glob(os.path.join(\"data\", \"**\", \"*.csv\"), recursive=True))\n",
        "csvs"
      ],
      "metadata": {
        "id": "03TPRkrRggDs"
      },
      "execution_count": null,
      "outputs": []
    },
    {
      "cell_type": "code",
      "source": [
        "import matplotlib.pyplot as plt\n",
        "import pandas as pd\n",
        "import glob, os\n",
        "\n",
        "# Find the CSV file in the new data directory\n",
        "csv_files = glob.glob(os.path.join(\"data\", \"*.csv\"))\n",
        "if not csv_files:\n",
        "    raise FileNotFoundError(\"No CSV file found in data directory.\")\n",
        "new_csv_path = csv_files[0]\n",
        "\n",
        "\n",
        "df = pd.read_csv(new_csv_path)\n",
        "\n",
        "df['date'] = pd.to_datetime(df['date'], errors='coerce')\n",
        "df.dropna(subset=['date'], inplace=True)\n",
        "df = df.set_index('date').sort_index()\n",
        "df = df['temperature']\n",
        "\n",
        "df = df.asfreq('D', fill_value=None).ffill()\n",
        "\n",
        "# Filter data for the years 2015 to 2017\n",
        "df = df.loc['2015':'2017']\n",
        "\n",
        "display(df.head())"
      ],
      "metadata": {
        "id": "rDajQOL5giH7"
      },
      "execution_count": null,
      "outputs": []
    },
    {
      "cell_type": "code",
      "source": [
        "import matplotlib.dates as mdates\n",
        "import matplotlib.ticker as mticker\n",
        "import pandas as pd\n",
        "\n",
        "df.plot()\n",
        "plt.title('Daily Temperature Time Series (Detroit)')\n",
        "plt.xlabel('Year')\n",
        "plt.ylabel('Temperature in Celsius')\n",
        "plt.show()"
      ],
      "metadata": {
        "id": "hidQgRx2gzIw"
      },
      "execution_count": null,
      "outputs": []
    },
    {
      "cell_type": "code",
      "source": [
        "from pycaret.time_series import *\n",
        "\n",
        "s = setup(df, fh = 5, session_id = 123)"
      ],
      "metadata": {
        "id": "IUMR5Yk2vAhk"
      },
      "execution_count": null,
      "outputs": []
    },
    {
      "cell_type": "code",
      "source": [
        "from pycaret.time_series import TSForecastingExperiment\n",
        "exp = TSForecastingExperiment()"
      ],
      "metadata": {
        "id": "WIZ3pSg5wn-F"
      },
      "execution_count": null,
      "outputs": []
    },
    {
      "cell_type": "code",
      "source": [
        "type(exp)"
      ],
      "metadata": {
        "id": "Lw4f6-Ntwp1E"
      },
      "execution_count": null,
      "outputs": []
    },
    {
      "cell_type": "code",
      "source": [
        "exp.setup(df, fh = 5, session_id = 123)"
      ],
      "metadata": {
        "id": "r7NVsbc8wstK"
      },
      "execution_count": null,
      "outputs": []
    },
    {
      "cell_type": "code",
      "source": [
        "check_stats()"
      ],
      "metadata": {
        "id": "XJskx8rqwyIX"
      },
      "execution_count": null,
      "outputs": []
    },
    {
      "cell_type": "code",
      "source": [
        "best = compare_models()"
      ],
      "metadata": {
        "id": "eRpJI3YHw2Pn"
      },
      "execution_count": null,
      "outputs": []
    },
    {
      "cell_type": "code",
      "source": [
        "exp.compare_models()"
      ],
      "metadata": {
        "id": "ta22R13ZxFpD"
      },
      "execution_count": null,
      "outputs": []
    },
    {
      "cell_type": "code",
      "source": [
        "plot_model(best, plot = 'forecast')"
      ],
      "metadata": {
        "id": "kqzxg2L0xOix"
      },
      "execution_count": null,
      "outputs": []
    },
    {
      "cell_type": "code",
      "source": [
        "plot_model(best, plot = 'forecast', data_kwargs = {'fh' : 18})"
      ],
      "metadata": {
        "id": "ptOlYSurx3bI"
      },
      "execution_count": null,
      "outputs": []
    },
    {
      "cell_type": "code",
      "source": [
        "plot_model(best, plot = 'residuals')"
      ],
      "metadata": {
        "id": "MHZgK_Eb070i"
      },
      "execution_count": null,
      "outputs": []
    },
    {
      "cell_type": "code",
      "metadata": {
        "id": "965fd2b2"
      },
      "source": [
        "# Create the ARIMA model\n",
        "arima_model = create_model('arima')\n",
        "\n",
        "plot_model(arima_model, plot = 'forecast')"
      ],
      "execution_count": null,
      "outputs": []
    },
    {
      "cell_type": "code",
      "source": [
        "plot_model(arima_model, plot = 'residuals')"
      ],
      "metadata": {
        "id": "A9x5eznoCqlP"
      },
      "execution_count": null,
      "outputs": []
    },
    {
      "cell_type": "code",
      "source": [
        "plot_model(arima_model, plot = 'forecast', data_kwargs = {'fh' : 40})"
      ],
      "metadata": {
        "id": "CYPFWUqQCGt6"
      },
      "execution_count": null,
      "outputs": []
    },
    {
      "cell_type": "code",
      "source": [
        "holdout_pred = predict_model(arima_model)"
      ],
      "metadata": {
        "id": "iNCCPKugA3D1"
      },
      "execution_count": null,
      "outputs": []
    },
    {
      "cell_type": "code",
      "source": [
        "holdout_pred.head()"
      ],
      "metadata": {
        "id": "rzbdp1J9BCSm"
      },
      "execution_count": null,
      "outputs": []
    },
    {
      "cell_type": "code",
      "source": [
        "predict_model(arima_model, fh = 40)"
      ],
      "metadata": {
        "id": "BjouLOxLBDwk"
      },
      "execution_count": null,
      "outputs": []
    },
    {
      "cell_type": "code",
      "source": [
        "save_model(arima_model, 'forecast_arima')"
      ],
      "metadata": {
        "id": "q2fzLEJFBt-O"
      },
      "execution_count": null,
      "outputs": []
    },
    {
      "cell_type": "code",
      "source": [
        "loaded_best_pipeline = load_model('forecast_arima')\n",
        "loaded_best_pipeline"
      ],
      "metadata": {
        "id": "quoBmEoPBy-p"
      },
      "execution_count": null,
      "outputs": []
    },
    {
      "cell_type": "markdown",
      "metadata": {
        "id": "a11c16fd"
      },
      "source": [
        "# Task\n",
        "Demonstrate the ARIMA model prediction in Gradio."
      ]
    },
    {
      "cell_type": "markdown",
      "metadata": {
        "id": "0a13e111"
      },
      "source": [
        "## Install gradio\n",
        "\n",
        "### Subtask:\n",
        "Install the gradio library.\n"
      ]
    },
    {
      "cell_type": "markdown",
      "metadata": {
        "id": "4a8f4709"
      },
      "source": [
        "**Reasoning**:\n",
        "The subtask is to install the gradio library. I will use pip to install the library.\n",
        "\n"
      ]
    },
    {
      "cell_type": "code",
      "metadata": {
        "id": "f783b5d4"
      },
      "source": [
        "!pip install gradio"
      ],
      "execution_count": null,
      "outputs": []
    },
    {
      "cell_type": "markdown",
      "metadata": {
        "id": "c9749c9e"
      },
      "source": [
        "## Define prediction function\n",
        "\n",
        "### Subtask:\n",
        "Create a Python function that takes future horizon as input and returns the predicted temperatures using the loaded ARIMA model.\n"
      ]
    },
    {
      "cell_type": "markdown",
      "metadata": {
        "id": "4ad8f612"
      },
      "source": [
        "**Reasoning**:\n",
        "Define a Python function that utilizes the loaded ARIMA model to generate future temperature predictions based on a given forecast horizon.\n",
        "\n"
      ]
    },
    {
      "cell_type": "code",
      "metadata": {
        "id": "9d3451e4"
      },
      "source": [
        "def forecast_temperature(future_horizon):\n",
        "  \"\"\"\n",
        "  Generates future temperature predictions using the loaded ARIMA model.\n",
        "\n",
        "  Args:\n",
        "    future_horizon: The number of steps to forecast into the future.\n",
        "\n",
        "  Returns:\n",
        "    A pandas DataFrame containing the forecasted temperature values.\n",
        "  \"\"\"\n",
        "  predictions = predict_model(loaded_best_pipeline, fh=future_horizon)\n",
        "  return predictions"
      ],
      "execution_count": null,
      "outputs": []
    },
    {
      "cell_type": "markdown",
      "metadata": {
        "id": "7e027d88"
      },
      "source": [
        "## Create gradio interface\n",
        "\n",
        "### Subtask:\n",
        "Build a Gradio interface using the prediction function and specify the input and output components.\n"
      ]
    },
    {
      "cell_type": "markdown",
      "metadata": {
        "id": "38d3f28f"
      },
      "source": [
        "**Reasoning**:\n",
        "Build a Gradio interface using the prediction function and specify the input and output components.\n",
        "\n"
      ]
    },
    {
      "cell_type": "code",
      "metadata": {
        "id": "5ba141a5"
      },
      "source": [
        "import gradio as gr\n",
        "\n",
        "iface = gr.Interface(\n",
        "    fn=forecast_temperature,\n",
        "    inputs=gr.Number(label=\"Future Horizon (days)\"),\n",
        "    outputs=gr.DataFrame(label=\"Predicted Temperatures\")\n",
        ")"
      ],
      "execution_count": null,
      "outputs": []
    },
    {
      "cell_type": "markdown",
      "metadata": {
        "id": "716ee621"
      },
      "source": [
        "## Launch gradio app\n",
        "\n",
        "### Subtask:\n",
        "Launch the Gradio interface to interact with the model.\n"
      ]
    },
    {
      "cell_type": "markdown",
      "metadata": {
        "id": "61c719c0"
      },
      "source": [
        "**Reasoning**:\n",
        "Launch the Gradio interface to allow interaction with the prediction function.\n",
        "\n"
      ]
    },
    {
      "cell_type": "code",
      "metadata": {
        "id": "2ee4646d"
      },
      "source": [
        "iface.launch()"
      ],
      "execution_count": null,
      "outputs": []
    },
    {
      "cell_type": "markdown",
      "metadata": {
        "id": "90c29206"
      },
      "source": [
        "## Summary:\n",
        "\n",
        "### Data Analysis Key Findings\n",
        "\n",
        "* The `gradio` library was already installed in the environment before the process began.\n",
        "* A Python function, `forecast_temperature`, was created to utilize a pre-loaded ARIMA model from PyCaret for making future temperature predictions.\n",
        "* A Gradio interface was successfully built using `gradio.Interface`, connecting the `forecast_temperature` function with a numeric input for the future horizon and a DataFrame output for the predictions.\n",
        "* The Gradio interface was launched, making it accessible via a public URL.\n",
        "\n",
        "### Insights or Next Steps\n",
        "\n",
        "* The launched Gradio interface provides a user-friendly way to demonstrate the ARIMA model's prediction capabilities without requiring coding knowledge.\n",
        "* The next steps could involve embedding this Gradio interface within a larger application or sharing the public URL with others to allow interaction with the model.\n"
      ]
    }
  ]
}